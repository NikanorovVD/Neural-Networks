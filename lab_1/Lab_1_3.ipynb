{
  "cells": [
    {
      "cell_type": "markdown",
      "metadata": {
        "id": "Rh-zMaWcL2hW"
      },
      "source": [
        "# Нейронные сети\n",
        "*********\n",
        "###Лабораторная работа 1\n",
        "###Программа диалогового задания гармонического сигнала и его визуализации"
      ]
    },
    {
      "cell_type": "code",
      "execution_count": null,
      "metadata": {
        "id": "tV_-k6mkoIfQ"
      },
      "outputs": [],
      "source": [
        "import numpy as np\n",
        "import matplotlib.pyplot as plt\n",
        "\n",
        "f0 = 2000   # Частота сигнала в герцах\n",
        "A = 10      # Амплитуда сигнала\n",
        "phi = 30     # Фаза сигнала косинуса\n",
        "mvis = 25    # Коэффициент уменьшения интервала дискретизации\n",
        "Tnab = 0.003         # Интервал наблюдения (сек)\n",
        "\n",
        "w = 2 * np.pi * f0  # Переход к круговой частоте (рад/сек)\n",
        "T = 1 / f0          # Период исходного сигнала (сек)\n",
        "NT = Tnab / T       # Количество периодов сигнала\n",
        "dtn = np.pi / w     # Интервал дискретизации Найквиста (теорема Котельникова)\n",
        "dtv = dtn / mvis    # Интервал дискретизации, пригодный для визуализации\n",
        "\n",
        "Nn = Tnab / dtn  # Количество точек в интервале наблюдения для дискретизации Найквиста\n",
        "Nv = Tnab / dtv  # Количество точек в интервале наблюдения для интервала дискретизации, пригодного для визуализации\n",
        "\n",
        "tn = np.multiply(dtn, np.arange(0, Nn))  # Вектор времени (сек), дискретизированный в соответствии с критерием Найквиста\n",
        "tv = np.multiply(dtv, np.arange(0, Nv))  # и c интервалом дискретизации, пригодным для визуализации\n",
        "\n",
        "y1n = A * np.cos(2 * np.pi * f0 * tn + phi)  # Вектора сигналов, дискретизированных в соответствии с критерием Найквиста\n",
        "y2n = A * np.sin(2 * np.pi * f0 * tn + phi)\n",
        "y1v = A * np.cos(2 * np.pi * f0 * tv + phi)  # Вектора сигналов, дискретизированных c интервалом дискретизации, пригодным для визуализации\n",
        "y2v = A * np.sin(2 * np.pi * f0 * tv + phi)\n",
        "\n",
        "fig = plt.figure(figsize=(15, 10))\n",
        "\n",
        "plt.subplot(2, 2, 1)\n",
        "plt.plot(tn, y1n, 'r-o', ms=3)\n",
        "plt.title('Дискретизированный косинус')\n",
        "plt.xlabel('Time, sec')\n",
        "plt.ylabel('Signal')\n",
        "\n",
        "plt.subplot(2, 2, 3)\n",
        "plt.plot(tv, y1v, 'r-o', ms=3)\n",
        "plt.title('Сглаженный дискретизированный косинус')\n",
        "plt.xlabel('Time, sec')\n",
        "plt.ylabel('Signal')\n",
        "\n",
        "plt.subplot(2, 2, 2)\n",
        "plt.title('Дискретизированный синус')\n",
        "plt.plot(tn, y2n, 'b-o', ms=3)\n",
        "plt.xlabel('Time, sec')\n",
        "plt.ylabel('Signal')\n",
        "\n",
        "plt.subplot(2, 2, 4)\n",
        "plt.title('Сглаженный дискретизированный синус')\n",
        "plt.plot(tv, y2v, 'b-o', ms=3)\n",
        "plt.xlabel('Time, sec')\n",
        "plt.ylabel('Signal')\n",
        "\n",
        "plt.show()\n"
      ]
    },
    {
      "cell_type": "code",
      "execution_count": null,
      "metadata": {},
      "outputs": [],
      "source": [
        "\n",
        "Nn = 10                 # Количество точек в интервале наблюдения для дискретизации Найквиста\n",
        "\n",
        "w = 2 * np.pi * f0      # Переход к круговой частоте (рад/сек)\n",
        "T = 1 / f0              # Период исходного сигнала (сек)\n",
        "dtn = np.pi / w         # Интервал дискретизации Найквиста (теорема Котельникова)\n",
        "dtv = dtn / mvis        # Интервал дискретизации, пригодный для визуализации\n",
        "Tnab = Nn * dtn         # Интервал наблюдения (сек)\n",
        "Nv = Tnab / dtv         # Количество точек в интервале наблюдения для интервала дискретизации, пригодного для визуализации\n",
        "\n",
        "tn = np.multiply(dtn, np.arange(0, Nn))  # Вектор времени (сек), дискретизированный в соответствии с критерием Найквиста\n",
        "tv = np.multiply(dtv, np.arange(0, Nv))  # и c интервалом дискретизации, пригодным для визуализации\n",
        "\n",
        "y1n = A * np.cos(2 * np.pi * f0 * tn + phi)  # Вектора сигналов, дискретизированных в соответствии с критерием Найквиста\n",
        "y2n = A * np.sin(2 * np.pi * f0 * tn + phi)\n",
        "y1v = A * np.cos(2 * np.pi * f0 * tv + phi)  # Вектора сигналов, дискретизированных c интервалом дискретизации, пригодным для визуализации\n",
        "y2v = A * np.sin(2 * np.pi * f0 * tv + phi)\n",
        "\n",
        "plt.figure(figsize=(15, 10))\n",
        "\n",
        "plt.subplot(2, 2, 1)\n",
        "plt.plot(tn, y1n, 'r-o', ms=3)\n",
        "plt.title('Дискретизированный косинус')\n",
        "plt.xlabel('Time, sec')\n",
        "plt.ylabel('Signal')\n",
        "\n",
        "plt.subplot(2, 2, 3)\n",
        "plt.plot(tv, y1v, 'r-o', ms=3)\n",
        "plt.title('Сглаженный дискретизированный косинус')\n",
        "plt.xlabel('Time, sec')\n",
        "plt.ylabel('Signal')\n",
        "\n",
        "plt.subplot(2, 2, 2)\n",
        "plt.title('Дискретизированный синус')\n",
        "plt.plot(tn, y2n, 'b-o', ms=3)\n",
        "plt.xlabel('Time, sec')\n",
        "plt.ylabel('Signal')\n",
        "\n",
        "plt.subplot(2, 2, 4)\n",
        "plt.title('Сглаженный дискретизированный синус')\n",
        "plt.plot(tv, y2v, 'b-o', ms=3)\n",
        "plt.xlabel('Time, sec')\n",
        "plt.ylabel('Signal')\n",
        "\n",
        "plt.show()"
      ]
    }
  ],
  "metadata": {
    "colab": {
      "provenance": []
    },
    "kernelspec": {
      "display_name": "Python 3",
      "name": "python3"
    },
    "language_info": {
      "name": "python"
    }
  },
  "nbformat": 4,
  "nbformat_minor": 0
}
