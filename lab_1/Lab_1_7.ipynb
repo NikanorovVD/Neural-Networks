{
  "cells": [
    {
      "cell_type": "markdown",
      "metadata": {
        "id": "Rh-zMaWcL2hW"
      },
      "source": [
        "# Нейронные сети\n",
        "*********\n",
        "###Лабораторная работа 1\n",
        "###Программа диалогового задания гармонического сигнала и его визуализации"
      ]
    },
    {
      "cell_type": "code",
      "execution_count": null,
      "metadata": {
        "id": "tV_-k6mkoIfQ"
      },
      "outputs": [],
      "source": [
        "import numpy as np\n",
        "import matplotlib.pyplot as plt\n",
        "\n",
        "x = np.arange(-5.0, 5.0, 0.1)\n",
        "\n",
        "# теоретическое вычисление\n",
        "theor_y = np.exp(-x) / (1 + np.exp(-x)) ** 2\n",
        "\n",
        "# численное вычисление\n",
        "sigmoid = 1 / (1 + np.exp(-x))\n",
        "numer_y = np.gradient(sigmoid, 0.1)\n",
        "\n",
        "plt.figure(figsize=(12, 8))\n",
        "plt.title('Производные сигмоиды', fontsize=12)\n",
        "\n",
        "lw = 0.5\n",
        "plt.plot(x, theor_y, color='r', linewidth=lw, label='Теоритически вычисленная производная')\n",
        "plt.plot(x, numer_y, color='g', linewidth=lw, label='Численно вычисленная производная')\n",
        "plt.xlabel('x', fontsize=10)\n",
        "plt.ylabel('f(x)', fontsize=10)\n",
        "\n",
        "plt.legend(loc='best')\n",
        "plt.show()\n"
      ]
    }
  ],
  "metadata": {
    "colab": {
      "provenance": []
    },
    "kernelspec": {
      "display_name": "Python 3",
      "name": "python3"
    },
    "language_info": {
      "name": "python"
    }
  },
  "nbformat": 4,
  "nbformat_minor": 0
}
