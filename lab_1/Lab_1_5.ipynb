{
  "cells": [
    {
      "cell_type": "markdown",
      "metadata": {
        "id": "Rh-zMaWcL2hW"
      },
      "source": [
        "# Нейронные сети\n",
        "*********\n",
        "###Лабораторная работа 1\n",
        "###Программа диалогового задания гармонического сигнала и его визуализации"
      ]
    },
    {
      "cell_type": "code",
      "execution_count": null,
      "metadata": {
        "id": "tV_-k6mkoIfQ"
      },
      "outputs": [],
      "source": [
        "import numpy as np\n",
        "import matplotlib.pyplot as plt\n",
        "from scipy.fft import fft\n",
        "import time\n",
        "\n",
        "f0 = 2000   # Частота сигнала в герцах\n",
        "A = 10      # Амплитуда сигнала\n",
        "NT = 6      # Количество периодов сигнала\n",
        "mvis = 5    # Коэффициент уменьшения интервала дискретизации\n",
        "\n",
        "max_s = 15\n",
        "t_dpf = [0] * max_s\n",
        "t_fft = [0] * max_s\n",
        "\n",
        "fdn = 2 * f0  # Частота дискретизации в соответствии с критерием Найквиста\n",
        "\n",
        "fdv = mvis * fdn  # Частота дискретизации для визуализации\n",
        "dt = 1 / fdv  # Интервал дискретизации по времени\n",
        "T = 1 / f0  # Период сигнала\n",
        "\n",
        "for s in range(0, max_s):\n",
        "    # Дискретное преобразование Фурье\n",
        "    k = np.arange(0, 2 ** s)\n",
        "    t = np.arange(0, 2 ** s)  # Вектор времени, сек\n",
        "    y_sin = A * np.sin(2 * np.pi * f0 * t)  # Вектор синуса\n",
        "    y_cos = A * np.cos(2 * np.pi * f0 * t)  # Вектор косинуса\n",
        "    N = len(y_sin)\n",
        "    start = time.time()\n",
        "    Ex = np.exp(-1j * 2 * np.pi / N * np.outer(k, k))\n",
        "    Y_sin = np.dot(y_sin, Ex)\n",
        "    Y_cos = np.dot(y_cos, Ex)\n",
        "    t_dpf[s] = (time.time() - start)\n",
        "    start = time.time()\n",
        "    Y_sin_fft = fft(y_sin)\n",
        "    Y_cos_fft = fft(y_cos)\n",
        "    t_fft[s] = (time.time() - start)\n",
        "\n",
        "x = np.arange(0, max_s)\n",
        "\n",
        "fig = plt.figure(figsize=(15, 10))\n",
        "plt.subplot(2, 2, 1)\n",
        "plt.plot(x, t_dpf, 'r')\n",
        "plt.title('Время прямого вычисления ДПФ')\n",
        "plt.xlabel('s (размерность массива = 2^s)')\n",
        "plt.ylabel('Время, сек')\n",
        "\n",
        "plt.subplot(2, 2, 2)\n",
        "plt.plot(x, t_fft, 'b')\n",
        "plt.title('Время БПФ(fft)')\n",
        "plt.xlabel('s (размерность массива = 2^s)')\n",
        "plt.ylabel('Время, сек')\n",
        "\n",
        "plt.show()\n"
      ]
    }
  ],
  "metadata": {
    "colab": {
      "provenance": []
    },
    "kernelspec": {
      "display_name": "Python 3",
      "name": "python3"
    },
    "language_info": {
      "name": "python"
    }
  },
  "nbformat": 4,
  "nbformat_minor": 0
}
