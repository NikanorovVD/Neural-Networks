{
  "cells": [
    {
      "cell_type": "markdown",
      "metadata": {
        "id": "Rh-zMaWcL2hW"
      },
      "source": [
        "# Нейронные сети\n",
        "*********\n",
        "###Лабораторная работа 1\n",
        "###Программа диалогового задания гармонического сигнала и его визуализации"
      ]
    },
    {
      "cell_type": "code",
      "execution_count": null,
      "metadata": {
        "id": "tV_-k6mkoIfQ"
      },
      "outputs": [],
      "source": [
        "import matplotlib.pyplot as plt\n",
        "import numpy as np\n",
        "\n",
        "# Программа вычисления ДПФ гармонического сигнала\n",
        "print('*** Программа вычисления ДПФ гармонического сигнала ***')\n",
        "A = float(np.real(input('Введите амплитуду сигнала, ед.: ')))\n",
        "f0 = float(np.real(input('Введите частоту сигнала, Гц: ')))\n",
        "\n",
        "fdn = 2 * f0  # Частота дискретизации в соответствии с критерием Найквиста\n",
        "mvis = 4\n",
        "fdv = mvis * fdn  # Частота дискретизации для визуализации\n",
        "dt = 1 / fdv  # Интервал дискретизации по времени\n",
        "T = 1 / f0  # Период сигнала\n",
        "NT = 6\n",
        "t = np.arange(0, NT * T, dt)  # Вектор времени, с\n",
        "y = A * np.sin(2 * np.pi * f0 * t)  # Вектор сигнала\n",
        "N = len(y)\n",
        "\n",
        "# Дискретное преобразование Фурье\n",
        "k = np.arange(0, N)\n",
        "Ex = np.exp(-1j * 2 * np.pi / N * np.outer(k, k))\n",
        "Y = np.dot(y, Ex)\n",
        "\n",
        "# Обратное дискретное преобразование Фурье\n",
        "Ex = np.exp(1j * 2 * np.pi / N * np.outer(k, k))\n",
        "ys = Y / (N - 1) * Ex\n",
        "\n",
        "Y2 = Y * np.conj(Y)  # Квадрат модуля Фурье-образа\n",
        "ff = k * fdv / N  # Вектор частоты, Гц\n",
        "\n",
        "\n",
        "plt.figure(figsize=(15, 10))\n",
        "plt.plot(ff, Y2, 'r')\n",
        "plt.xlabel('Frequency, Hz')\n",
        "plt.ylabel('Fourier-image modulus squared')\n",
        "plt.show()\n",
        "\n",
        "plt.figure(figsize=(15, 10))\n",
        "plt.subplot(2, 2, 1)\n",
        "plt.plot(t, np.real(y), 'r')\n",
        "plt.axis([0, NT * T, -1.1 * A, 1.1 * A])\n",
        "plt.title('Real part')\n",
        "plt.xlabel('Time, s')\n",
        "plt.ylabel('Initial signal')\n",
        "\n",
        "plt.subplot(2, 2, 2)\n",
        "plt.plot(t, np.imag(y), 'b')\n",
        "plt.axis([0, NT * T, -1.1 * A, 1.1 * A])\n",
        "plt.title('Imaginary part')\n",
        "plt.xlabel('Time, s')\n",
        "plt.ylabel('Initial signal')\n",
        "\n",
        "plt.subplot(2, 2, 3)\n",
        "plt.plot(t, np.real(ys), 'r')\n",
        "plt.axis([0, NT * T, -1.1 * A, 1.1 * A])\n",
        "plt.xlabel('Time, s')\n",
        "plt.ylabel('Restored signal')\n",
        "\n",
        "plt.subplot(2, 2, 4)\n",
        "plt.plot(t, np.imag(ys), 'b')\n",
        "plt.axis([0, NT * T, -1.1 * A, 1.1 * A])\n",
        "plt.xlabel('Time, s')\n",
        "plt.ylabel('Restored signal')\n",
        "plt.show()\n",
        "\n",
        "print('**********   Конец работы   **********')"
      ]
    }
  ],
  "metadata": {
    "colab": {
      "provenance": []
    },
    "kernelspec": {
      "display_name": "Python 3",
      "name": "python3"
    },
    "language_info": {
      "name": "python"
    }
  },
  "nbformat": 4,
  "nbformat_minor": 0
}
