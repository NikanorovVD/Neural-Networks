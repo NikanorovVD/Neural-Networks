{
  "cells": [
    {
      "cell_type": "markdown",
      "metadata": {
        "id": "Rh-zMaWcL2hW"
      },
      "source": [
        "# Нейронные сети\n",
        "*********\n",
        "###Лабораторная работа 1\n",
        "###Программа диалогового задания гармонического сигнала и его визуализации"
      ]
    },
    {
      "cell_type": "code",
      "execution_count": null,
      "metadata": {
        "id": "tV_-k6mkoIfQ"
      },
      "outputs": [],
      "source": [
        "import numpy as np\n",
        "import matplotlib.pyplot as plt\n",
        "\n",
        "x = np.linspace(-5, 5, 500)\n",
        "threshold = 0.5\n",
        "\n",
        "plt.figure(figsize=(15, 10))\n",
        "plt.tight_layout()\n",
        "plt.suptitle('Функции активации нейронов', y=1.02, fontsize=14)\n",
        "\n",
        "# Пороговая функция\n",
        "y_step = list(map(lambda v: 1 if v > threshold else 0, x))\n",
        "plt.subplot(2, 2, 1)\n",
        "plt.plot(x, y_step, color='r', linewidth=2)\n",
        "plt.title('Пороговая функция', fontsize=12)\n",
        "plt.xlabel('x', fontsize=10)\n",
        "plt.ylabel('f(x)', fontsize=10)\n",
        "\n",
        "# Линейный порог\n",
        "min = -1\n",
        "max = 1\n",
        "v = np.asarray(x)\n",
        "y_linear = np.zeros_like(v)\n",
        "mask = (v > min) & (v < max)\n",
        "slope = 1.0 / (max - min)\n",
        "y_linear[mask] = slope * (v[mask] - min)\n",
        "y_linear[v >= max] = 1.0\n",
        "plt.subplot(2, 2, 2)\n",
        "plt.plot(x, y_linear, color='m', linewidth=2)\n",
        "plt.title('Линейный порог', fontsize=12)\n",
        "plt.xlabel('x', fontsize=10)\n",
        "plt.ylabel('f(x)', fontsize=10)\n",
        "\n",
        "# Сигмоида\n",
        "a = 1\n",
        "y_sigmoid = list(map(lambda v: 1 / (1 + np.exp(-a * v)), x))\n",
        "plt.subplot(2, 2, 3)\n",
        "plt.plot(x, y_sigmoid, color='b', linewidth=2)\n",
        "plt.title('Сигмоидная функция', fontsize=12)\n",
        "plt.xlabel('x', fontsize=10)\n",
        "plt.ylabel('f(x)', fontsize=10)\n",
        "\n",
        "# Гиперболический тангенс\n",
        "y_tanh = list(map(lambda v: np.tanh(v / a), x))\n",
        "plt.subplot(2, 2, 4)\n",
        "plt.plot(x, y_tanh, color='c', linewidth=2)\n",
        "plt.title('Гиперболический тангенс', fontsize=12)\n",
        "plt.xlabel('x', fontsize=10)\n",
        "plt.ylabel('f(x)', fontsize=10)\n",
        "\n",
        "plt.show()\n"
      ]
    }
  ],
  "metadata": {
    "colab": {
      "provenance": []
    },
    "kernelspec": {
      "display_name": "Python 3",
      "name": "python3"
    },
    "language_info": {
      "name": "python"
    }
  },
  "nbformat": 4,
  "nbformat_minor": 0
}
