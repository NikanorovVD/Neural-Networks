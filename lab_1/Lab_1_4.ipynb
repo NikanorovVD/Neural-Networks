{
  "cells": [
    {
      "cell_type": "markdown",
      "metadata": {
        "id": "Rh-zMaWcL2hW"
      },
      "source": [
        "# Нейронные сети\n",
        "*********\n",
        "###Лабораторная работа 1\n",
        "###Программа диалогового задания гармонического сигнала и его визуализации"
      ]
    },
    {
      "cell_type": "code",
      "execution_count": null,
      "metadata": {
        "id": "tV_-k6mkoIfQ"
      },
      "outputs": [],
      "source": [
        "import numpy as np\n",
        "import matplotlib.pyplot as plt\n",
        "from scipy.fft import fft\n",
        "\n",
        "f0 = 2000   # Частота сигнала в герцах\n",
        "A = 10      # Амплитуда сигнала\n",
        "NT = 6      # Количество периодов сигнала\n",
        "mvis = 5    # Коэффициент уменьшения интервала дискретизации\n",
        "\n",
        "fdn = 2 * f0  # Частота дискретизации в соответствии с критерием Найквиста\n",
        "\n",
        "fdv = mvis * fdn  # Частота дискретизации для визуализации\n",
        "dt = 1 / fdv  # Интервал дискретизации по времени\n",
        "T = 1 / f0  # Период сигнала\n",
        "\n",
        "t = np.arange(0, NT * T, dt)  # Вектор времени, сек\n",
        "y_sin = A * np.sin(2 * np.pi * f0 * t)  # Вектор синуса\n",
        "y_cos = A * np.cos(2 * np.pi * f0 * t)  # Вектор косинуса\n",
        "N = len(y_sin)\n",
        "\n",
        "# ДПФ\n",
        "k = np.arange(0, N)\n",
        "Ex = np.exp(-1j * 2 * np.pi / N * np.outer(k, k))\n",
        "Y_sin = np.dot(y_sin, Ex)\n",
        "Y_cos = np.dot(y_cos, Ex)\n",
        "\n",
        "# БПФ\n",
        "Y_sin_fft = fft(y_sin)\n",
        "Y_cos_fft = fft(y_cos)\n"
      ]
    },
    {
      "cell_type": "code",
      "execution_count": null,
      "metadata": {},
      "outputs": [],
      "source": [
        "# Мнимые и действительные части фурье-образов для прямого ДПФ\n",
        "fig = plt.figure(figsize=(15, 10))\n",
        "fig.suptitle('Прямое вычисление ДПФ')\n",
        "\n",
        "plt.subplot(2, 2, 1)\n",
        "plt.plot(t, np.real(Y_cos), 'r')\n",
        "plt.title('Действит. часть Фурье образа косинуса')\n",
        "plt.xlabel('Time, s')\n",
        "\n",
        "plt.subplot(2, 2, 3)\n",
        "plt.plot(t, np.imag(Y_cos), 'r')\n",
        "plt.title('Мнимая часть Фурье образа косинуса')\n",
        "plt.xlabel('Time, s')\n",
        "\n",
        "plt.subplot(2, 2, 2)\n",
        "plt.plot(t, np.real(Y_sin), 'b')\n",
        "plt.title('Действит. часть Фурье образа синуса')\n",
        "plt.xlabel('Time, s')\n",
        "\n",
        "plt.subplot(2, 2, 4)\n",
        "plt.plot(t, np.imag(Y_sin), 'b')\n",
        "plt.title('Мнимая часть Фурье образа синуса')\n",
        "plt.xlabel('Time, s')\n",
        "\n",
        "plt.show()"
      ]
    },
    {
      "cell_type": "code",
      "execution_count": null,
      "metadata": {},
      "outputs": [],
      "source": [
        "\n",
        "# Мнимые и действительные части фурье-образов для прямого БПФ(fft)\n",
        "fig = plt.figure(figsize=(15, 10))\n",
        "fig.suptitle('БПФ(fft)')\n",
        "\n",
        "plt.subplot(2, 2, 1)\n",
        "plt.plot(t, np.real(Y_cos_fft), 'r')\n",
        "plt.title('Действит. часть Фурье образа косинуса')\n",
        "plt.xlabel('Time, s')\n",
        "\n",
        "plt.subplot(2, 2, 3)\n",
        "plt.plot(t, np.imag(Y_cos_fft), 'r')\n",
        "plt.title('Мнимая часть Фурье образа косинуса')\n",
        "plt.xlabel('Time, s')\n",
        "\n",
        "plt.subplot(2, 2, 2)\n",
        "plt.plot(t, np.real(Y_sin_fft), 'b')\n",
        "plt.title('Действит. часть Фурье образа синуса')\n",
        "plt.xlabel('Time, s')\n",
        "\n",
        "plt.subplot(2, 2, 4)\n",
        "plt.plot(t, np.imag(Y_sin_fft), 'b')\n",
        "plt.title('Мнимая часть Фурье образа синуса')\n",
        "plt.xlabel('Time, s')\n",
        "\n",
        "plt.show()\n"
      ]
    },
    {
      "cell_type": "code",
      "execution_count": null,
      "metadata": {},
      "outputs": [],
      "source": [
        "# Квадраты модулей Фурье-образов\n",
        "Y2_sin = Y_sin * np.conj(Y_sin)\n",
        "Y2_cos = Y_cos * np.conj(Y_cos)\n",
        "Y2_sin_fft = Y_sin_fft * np.conj(Y_sin_fft)\n",
        "Y2_cos_fft = Y_cos_fft * np.conj(Y_cos_fft)\n",
        "ff = k * fdv / N  # Вектор частоты, Гц\n",
        "\n",
        "plt.figure(figsize=(15, 10))\n",
        "plt.subplot(2, 2, 1)\n",
        "plt.title('Квадрат модуля Фурье образа косинуса для прямого ДПФ')\n",
        "plt.plot(ff, Y2_cos, 'r')\n",
        "plt.xlabel('Frequency, Hz')\n",
        "\n",
        "plt.subplot(2, 2, 2)\n",
        "plt.title('Квадрат модуля Фурье образа синуса для прямого ДПФ')\n",
        "plt.plot(ff, Y2_sin, 'b')\n",
        "plt.xlabel('Frequency, Hz')\n",
        "\n",
        "plt.subplot(2, 2, 3)\n",
        "plt.title('Квадрат модуля Фурье образа косинуса для БПФ(fft)')\n",
        "plt.plot(ff, Y2_cos_fft, 'r')\n",
        "plt.xlabel('Frequency, Hz')\n",
        "\n",
        "plt.subplot(2, 2, 4)\n",
        "plt.title('Квадрат модуля Фурье образа синуса для БПФ(fft)')\n",
        "plt.plot(ff, Y2_sin_fft, 'b')\n",
        "plt.xlabel('Frequency, Hz')\n",
        "\n",
        "plt.show()\n"
      ]
    }
  ],
  "metadata": {
    "colab": {
      "provenance": []
    },
    "kernelspec": {
      "display_name": "Python 3",
      "name": "python3"
    },
    "language_info": {
      "name": "python"
    }
  },
  "nbformat": 4,
  "nbformat_minor": 0
}
