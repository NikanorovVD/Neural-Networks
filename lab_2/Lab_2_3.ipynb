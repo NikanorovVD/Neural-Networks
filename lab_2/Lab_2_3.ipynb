{
  "cells": [
    {
      "cell_type": "markdown",
      "metadata": {
        "id": "Rh-zMaWcL2hW"
      },
      "source": [
        "# Нейронные сети\n",
        "*********\n",
        "###Лабораторная работа 1\n",
        "###Программа диалогового задания гармонического сигнала и его визуализации"
      ]
    },
    {
      "cell_type": "code",
      "execution_count": null,
      "metadata": {
        "id": "tV_-k6mkoIfQ"
      },
      "outputs": [],
      "source": [
        "def McCulloch_Pitts_AND_bipolar():\n",
        "    print('Введите веса')\n",
        "    w1 = float(input('Вес w1 = '))\n",
        "    w2 = float(input('Вес w2 = '))\n",
        "    print('Введите величину порога')\n",
        "    theta = float(input('Порог = '))\n",
        "\n",
        "    y = [-1, -1, -1, -1]\n",
        "    x1 = [-1, -1, 1, 1]\n",
        "    x2 = [-1, 1, -1, 1]\n",
        "    z = [-1, -1, -1, 1]\n",
        "    trained = False\n",
        "\n",
        "    while not trained:\n",
        "        zin = [x1[i] * w1 + x2[i] * w2 for i in range(4)]\n",
        "\n",
        "        for i in range(4):\n",
        "            if zin[i] >= theta:\n",
        "                y[i] = 1\n",
        "            else:\n",
        "                y[i] = -1\n",
        "        print('Значения на входах нейрона')\n",
        "        print(x1)\n",
        "        print(x2)\n",
        "        print('Значение на выходе нейрона')\n",
        "        print(y)\n",
        "\n",
        "        if y == z:\n",
        "            trained = 1\n",
        "        else:\n",
        "            print('Нейрон не обучен. Введите другие значения весовых коэффициентов и порога')\n",
        "            w1 = float(input('Вес w1 = '))\n",
        "            w2 = float(input('Вес w2 = '))\n",
        "            theta = float(input('Порог = '))\n",
        "\n",
        "    print('Нейрон МакКаллока-Питса для функции \"И\" (англ. \"AND\") в биполярной логике')\n",
        "    print('Веса нейрона')\n",
        "    print(w1)\n",
        "    print(w2)\n",
        "    print('Пороговое значение')\n",
        "    print(theta)\n",
        "\n",
        "\n",
        "McCulloch_Pitts_AND_bipolar()\n"
      ]
    }
  ],
  "metadata": {
    "colab": {
      "provenance": []
    },
    "kernelspec": {
      "display_name": "Python 3",
      "name": "python3"
    },
    "language_info": {
      "name": "python"
    }
  },
  "nbformat": 4,
  "nbformat_minor": 0
}
