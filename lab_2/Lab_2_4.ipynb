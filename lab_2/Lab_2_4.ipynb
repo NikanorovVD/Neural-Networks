{
  "cells": [
    {
      "cell_type": "markdown",
      "metadata": {
        "id": "Rh-zMaWcL2hW"
      },
      "source": [
        "# Нейронные сети\n",
        "*********\n",
        "###Лабораторная работа 1\n",
        "###Программа диалогового задания гармонического сигнала и его визуализации"
      ]
    },
    {
      "cell_type": "code",
      "execution_count": null,
      "metadata": {
        "id": "tV_-k6mkoIfQ"
      },
      "outputs": [],
      "source": [
        "def McCulloch_Pitts_XOR():\n",
        "    trained = False\n",
        "    while not trained:\n",
        "        print('Введите веса для входного слоя')\n",
        "        w_11 = float(input('Вес w_11 = '))\n",
        "        w_12 = float(input('Вес w_12 = '))\n",
        "        w_21 = float(input('Вес w_21 = '))\n",
        "        w_22 = float(input('Вес w_22 = '))\n",
        "\n",
        "        print('Введите веса для скрытого слоя')\n",
        "        w11 = float(input('Вес w11 = '))\n",
        "        w12 = float(input('Вес w12 = '))\n",
        "\n",
        "        print('Введите величину порога')\n",
        "        theta = float(input('Порог = '))\n",
        "\n",
        "        x1 = [0, 0, 1, 1]\n",
        "        x2 = [0, 1, 0, 1]\n",
        "        target = [0, 1, 1, 0]\n",
        "\n",
        "        zin1 = [x1[i] * w_11 + x2[i] * w_12 for i in range(4)]\n",
        "        zin2 = [x1[i] * w_21 + x2[i] * w_22 for i in range(4)]\n",
        "        y1 = [1 if zin1[i] >= theta else 0 for i in range(4)]\n",
        "        y2 = [1 if zin2[i] >= theta else 0 for i in range(4)]\n",
        "\n",
        "        zin_hidden = [y1[i] * w11 + y2[i] * w12 for i in range(4)]\n",
        "        y = [1 if zin_hidden[i] >= theta else 0 for i in range(4)]\n",
        "\n",
        "        if y != target:\n",
        "            print('Перцептрон не обучен. Введите другие значения весовых коэффициентов и порога')\n",
        "            continue\n",
        "        else:\n",
        "            trained = True\n",
        "\n",
        "        print('Перцептрон для функции XOR с использованием нейронов МакКаллока-Питса с архитектурой 2-1-1')\n",
        "        print('Веса нейронов входного слоя:')\n",
        "        print(f'w_11 = {w_11}')\n",
        "        print(f'w_12 = {w_12}')\n",
        "        print(f'w_21 = {w_21}')\n",
        "        print(f'w_22 = {w_22}')\n",
        "\n",
        "        print('Веса нейрона скрытого слоя:')\n",
        "        print(f'w11 = {w11}')\n",
        "        print(f'w12 = {w12}')\n",
        "\n",
        "        print('Пороговое значение')\n",
        "        print(theta)\n",
        "\n",
        "        print('Значения на входах сети:')\n",
        "        print(f'x1 = {x1}')\n",
        "        print(f'x2 = {x2}')\n",
        "\n",
        "        print('Значения на выходе сети:')\n",
        "        print(f'y = {y}')\n",
        "\n",
        "\n",
        "McCulloch_Pitts_XOR()\n"
      ]
    }
  ],
  "metadata": {
    "colab": {
      "provenance": []
    },
    "kernelspec": {
      "display_name": "Python 3",
      "name": "python3"
    },
    "language_info": {
      "name": "python"
    }
  },
  "nbformat": 4,
  "nbformat_minor": 0
}
